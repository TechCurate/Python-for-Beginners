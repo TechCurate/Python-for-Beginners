{
  "nbformat": 4,
  "nbformat_minor": 0,
  "metadata": {
    "colab": {
      "provenance": [],
      "authorship_tag": "ABX9TyNZlWSb3KDUGGZWXXf8LOYG",
      "include_colab_link": true
    },
    "kernelspec": {
      "name": "python3",
      "display_name": "Python 3"
    },
    "language_info": {
      "name": "python"
    }
  },
  "cells": [
    {
      "cell_type": "markdown",
      "metadata": {
        "id": "view-in-github",
        "colab_type": "text"
      },
      "source": [
        "<a href=\"https://colab.research.google.com/github/TechCurate/Python-for-Beginners/blob/main/BlackJack_Card_Game_(No_GUI)_11_05_2024.ipynb\" target=\"_parent\"><img src=\"https://colab.research.google.com/assets/colab-badge.svg\" alt=\"Open In Colab\"/></a>"
      ]
    },
    {
      "cell_type": "markdown",
      "source": [
        "# 1. The Game of BlackJack"
      ],
      "metadata": {
        "id": "rXlPZHbV2jJG"
      }
    },
    {
      "cell_type": "markdown",
      "source": [
        "Blackjack is the most widely played casino banking game in the world.\n",
        "\n",
        "This simeple Python program simulates Blackjack using Object Oriented Programming (OOP).\n",
        "\n",
        "A player plays agains a dealer. The dealer's hand is resolved by drawing cards until the hand achieves a total of 17 or higher. The rules of the game play can be read from [this](https://en.wikipedia.org/wiki/Blackjack#Rules_of_play_at_casinos) article."
      ],
      "metadata": {
        "id": "GRNa4xiu2yeo"
      }
    },
    {
      "cell_type": "markdown",
      "source": [
        "# 2. The Code (using Object Oriented Programming- OOP)"
      ],
      "metadata": {
        "id": "j7lswQGA2pz-"
      }
    },
    {
      "cell_type": "code",
      "source": [
        "import random"
      ],
      "metadata": {
        "id": "17li8WpIMezr"
      },
      "execution_count": null,
      "outputs": []
    },
    {
      "cell_type": "code",
      "source": [
        "class Card():\n",
        "    def __init__(self, suit, value):\n",
        "        self.suit = suit\n",
        "        self.value = value\n",
        "\n",
        "    def __str__(self):\n",
        "        return f\"{self.suit}{self.value}\""
      ],
      "metadata": {
        "id": "WHv2UhvEFnSN"
      },
      "execution_count": null,
      "outputs": []
    },
    {
      "cell_type": "code",
      "source": [
        "class Deck():\n",
        "    def __init__(self):\n",
        "        self.cards = []\n",
        "        suits = [\"♠\", \"♥\", \"♦\", \"♣\"]\n",
        "        values = [\"A\", \"2\", \"3\", \"4\", \"5\", \"6\", \"7\", \"8\", \"9\", \"T\", \"J\", \"Q\", \"K\"]\n",
        "        for suit in suits:\n",
        "            for value in values:\n",
        "                self.cards.append(Card(suit, value))\n",
        "\n",
        "    def shuffle(self):\n",
        "        import random\n",
        "        random.shuffle(self.cards)\n",
        "\n",
        "    def draw(self):\n",
        "        return self.cards.pop()\n",
        "\n",
        "    def count(self):\n",
        "        return len(self.cards)\n",
        "\n",
        "    def __str__(self):\n",
        "        output = f\"Deck of {self.count()} cards: \"\n",
        "        for card in self.cards:\n",
        "            output += f\"{card} \"\n",
        "        return output"
      ],
      "metadata": {
        "id": "QawJ_PsLGOjp"
      },
      "execution_count": null,
      "outputs": []
    },
    {
      "cell_type": "code",
      "source": [
        "class Player():\n",
        "    def __init__(self):\n",
        "        self.hand = []\n",
        "\n",
        "    def get_card(self, deck):\n",
        "        self.hand.append(deck.draw())\n",
        "\n",
        "    def __str__(self):\n",
        "        output = \"You have: \"\n",
        "        for card in self.hand:\n",
        "            output += f\"{card} \"\n",
        "        return output\n",
        "\n",
        "    def is_ace_in_hand(self):\n",
        "        for card in self.hand:\n",
        "            if card.value == \"A\":\n",
        "                return True\n",
        "        return False\n",
        "\n",
        "    def evaluate_hand(self):\n",
        "        total = 0\n",
        "        worth = {\"A\":11, \"2\":2, \"3\":3, \"4\":4, \"5\":5, \"6\":6, \"7\":7, \"8\":8, \"9\":9, \"T\":10, \"J\":10, \"Q\":10, \"K\":10, \"1\":1}\n",
        "        for card in self.hand:\n",
        "            total += worth[card.value]\n",
        "        if total > 21 and self.is_ace_in_hand():\n",
        "            while self.is_ace_in_hand():\n",
        "                for card in self.hand:\n",
        "                    if card.value == \"A\":\n",
        "                        card.value = \"1\"\n",
        "                        total -= 10\n",
        "                        break\n",
        "                if total <= 21:\n",
        "                    break\n",
        "        return total\n",
        "\n",
        "    def is_blackjack(self):\n",
        "        if self.evaluate_hand() == 21 and len(self.hand) == 2:\n",
        "            return True\n",
        "        return False\n",
        "\n",
        "    def is_bust(self):\n",
        "        if self.evaluate_hand() > 21:\n",
        "            return True\n",
        "        return False"
      ],
      "metadata": {
        "id": "aP_ZqbxPI6dG"
      },
      "execution_count": null,
      "outputs": []
    },
    {
      "cell_type": "code",
      "source": [
        "class Dealer(Player):\n",
        "    def __init__(self):\n",
        "        super().__init__()\n",
        "\n",
        "    def __str__(self):\n",
        "        output = \"Dealer has: \"\n",
        "        for card in self.hand:\n",
        "            output += f\"{card} \"\n",
        "        return output"
      ],
      "metadata": {
        "id": "TijY7NNNQ3vQ"
      },
      "execution_count": null,
      "outputs": []
    },
    {
      "cell_type": "code",
      "source": [
        "class Game():\n",
        "    def __init__(self):\n",
        "        self.deck = Deck()\n",
        "        self.player = Player()\n",
        "        self.dealer = Dealer()\n",
        "\n",
        "    def deal_cards(self):\n",
        "        for i in range(2):\n",
        "            self.player.get_card(self.deck)\n",
        "            self.dealer.get_card(self.deck)\n",
        "\n",
        "    def display_hand(self, player):\n",
        "        print(player)\n",
        "\n",
        "    def is_blackjack(self, player):\n",
        "        if player.evaluate_hand() == 21:\n",
        "            return True\n",
        "        return False\n",
        "\n",
        "    def is_bust(self, player):\n",
        "        if player.evaluate_hand() > 21:\n",
        "            return True\n",
        "        return False\n",
        "\n",
        "    def player_turn(self):\n",
        "        while input(\"Press any key to HIT another card, or 's' to STAND? \").lower() != \"s\":\n",
        "            self.player.get_card(self.deck)\n",
        "            self.display_hand(self.player)\n",
        "            if self.player.is_bust():\n",
        "                break\n",
        "            if self.player.evaluate_hand() == 21:\n",
        "                break\n",
        "        self.display_hand(self.player)\n",
        "        return self.player.evaluate_hand()\n",
        "\n",
        "    def dealer_turn(self):\n",
        "        while self.dealer.evaluate_hand() < 17:\n",
        "            self.dealer.get_card(self.deck)\n",
        "            if self.dealer.is_bust():\n",
        "                break\n",
        "        self.display_hand(self.dealer)\n",
        "        return self.dealer.evaluate_hand()\n",
        "\n",
        "    def play(self):\n",
        "        self.deck.shuffle()\n",
        "        self.deal_cards()\n",
        "        print(\"Welcome to the game of Blackjack!\")\n",
        "        self.display_hand(self.player)\n",
        "        if self.is_blackjack(self.player):\n",
        "            print(\"You hit a Blackjack!\")\n",
        "            if self.is_blackjack(self.dealer):\n",
        "                self.display_hand(self.dealer)\n",
        "                print(\"Dealer also hit a Blackjack! It's a tie!\")\n",
        "            else:\n",
        "                self.display_hand(self.dealer)\n",
        "                print(\"You win!\")\n",
        "\n",
        "        else:\n",
        "            if self.is_blackjack(self.dealer):\n",
        "                self.display_hand(self.dealer)\n",
        "                print(\"Dealer hit a Blackjack! Dealer wins\")\n",
        "            else:\n",
        "                player_cards = self.player_turn()\n",
        "                if player_cards > 21:\n",
        "                    print(\"You bust! Dealer wins!\")\n",
        "                    return\n",
        "                dealer_cards = self.dealer_turn()\n",
        "                if dealer_cards > 21:\n",
        "                    print(\"Dealer busts! You win!\")\n",
        "                elif player_cards > dealer_cards:\n",
        "                    print(\"You win!\")\n",
        "                elif player_cards < dealer_cards:\n",
        "                    print(\"Dealer wins!\")\n",
        "                else:\n",
        "                    print(\"It's a tie!\")"
      ],
      "metadata": {
        "id": "QrB8lRFTGqFl"
      },
      "execution_count": null,
      "outputs": []
    },
    {
      "cell_type": "markdown",
      "source": [
        "# 3. Example Game Plays"
      ],
      "metadata": {
        "id": "h4H-EHrq203C"
      }
    },
    {
      "cell_type": "markdown",
      "source": [
        "## Dealer hits a Blackjack, and wins!"
      ],
      "metadata": {
        "id": "-AVmivklCPxN"
      }
    },
    {
      "cell_type": "code",
      "source": [
        "blackjack = Game()\n",
        "blackjack.play()"
      ],
      "metadata": {
        "colab": {
          "base_uri": "https://localhost:8080/"
        },
        "id": "9ZfJ6BjJ2Bjk",
        "outputId": "a2ea4148-a9a8-489a-d270-8046101aa11c"
      },
      "execution_count": null,
      "outputs": [
        {
          "output_type": "stream",
          "name": "stdout",
          "text": [
            "Welcome to the game of Blackjack!\n",
            "You have: ♠5 ♣3 \n",
            "Dealer has: ♠K ♠A \n",
            "Dealer hit a Blackjack! Dealer wins\n"
          ]
        }
      ]
    },
    {
      "cell_type": "markdown",
      "source": [
        "## Player Hits a Blackjack, and wins!"
      ],
      "metadata": {
        "id": "TRD9BIlbCJo9"
      }
    },
    {
      "cell_type": "code",
      "source": [
        "blackjack = Game()\n",
        "blackjack.play()"
      ],
      "metadata": {
        "colab": {
          "base_uri": "https://localhost:8080/"
        },
        "id": "ZF2RFOs22I-C",
        "outputId": "e2c36513-d113-4350-c2f8-ec0989153199"
      },
      "execution_count": null,
      "outputs": [
        {
          "output_type": "stream",
          "name": "stdout",
          "text": [
            "Welcome to the game of Blackjack!\n",
            "You have: ♦A ♥J \n",
            "You hit a Blackjack!\n",
            "Dealer has: ♣8 ♠2 \n",
            "You win!\n"
          ]
        }
      ]
    },
    {
      "cell_type": "markdown",
      "source": [
        "## Some \"Tie\" games"
      ],
      "metadata": {
        "id": "o5ovKe5VB5z2"
      }
    },
    {
      "cell_type": "code",
      "source": [
        "blackjack = Game()\n",
        "blackjack.play()"
      ],
      "metadata": {
        "colab": {
          "base_uri": "https://localhost:8080/"
        },
        "id": "rpkBjKHD2Tam",
        "outputId": "b27ba0f3-0a18-4250-e1a4-e84f12b95cf1"
      },
      "execution_count": null,
      "outputs": [
        {
          "output_type": "stream",
          "name": "stdout",
          "text": [
            "Welcome to the game of Blackjack!\n",
            "You have: ♦K ♥Q \n",
            "Press any key to HIT another card, or 's' to STAND? s\n",
            "You have: ♦K ♥Q \n",
            "Dealer has: ♣T ♣Q \n",
            "It's a tie!\n"
          ]
        }
      ]
    },
    {
      "cell_type": "code",
      "source": [
        "blackjack = Game()\n",
        "blackjack.play()"
      ],
      "metadata": {
        "colab": {
          "base_uri": "https://localhost:8080/"
        },
        "id": "eW2_p12IGhry",
        "outputId": "bef3d691-d600-49e6-e7fd-9411545a91af"
      },
      "execution_count": null,
      "outputs": [
        {
          "output_type": "stream",
          "name": "stdout",
          "text": [
            "Welcome to the game of Blackjack!\n",
            "You have: ♠2 ♥3 \n",
            "Press any key to HIT another card, or 's' to STAND? 1\n",
            "You have: ♠2 ♥3 ♣Q \n",
            "Press any key to HIT another card, or 's' to STAND? 1\n",
            "You have: ♠2 ♥3 ♣Q ♥6 \n",
            "You have: ♠2 ♥3 ♣Q ♥6 \n",
            "Dealer has: ♦9 ♣2 ♥Q \n",
            "It's a tie!\n"
          ]
        }
      ]
    },
    {
      "cell_type": "markdown",
      "source": [
        "## Player busts, and Dealer wins"
      ],
      "metadata": {
        "id": "YSUPHdU6FYFW"
      }
    },
    {
      "cell_type": "code",
      "source": [
        "blackjack = Game()\n",
        "blackjack.play()"
      ],
      "metadata": {
        "colab": {
          "base_uri": "https://localhost:8080/"
        },
        "id": "WeJIh1YHPp2W",
        "outputId": "9b0911c3-c050-44d4-ad13-44907bce27e4"
      },
      "execution_count": null,
      "outputs": [
        {
          "output_type": "stream",
          "name": "stdout",
          "text": [
            "Welcome to the game of Blackjack!\n",
            "You have: ♣6 ♥K \n",
            "Press any key to HIT another card, or 's' to STAND? 1\n",
            "You have: ♣6 ♥K ♠7 \n",
            "You have: ♣6 ♥K ♠7 \n",
            "You bust! Dealer wins!\n"
          ]
        }
      ]
    },
    {
      "cell_type": "markdown",
      "source": [
        "## Dealer busts, and Player wins"
      ],
      "metadata": {
        "id": "mUj2KFKOF7vR"
      }
    },
    {
      "cell_type": "code",
      "source": [
        "blackjack = Game()\n",
        "blackjack.play()"
      ],
      "metadata": {
        "colab": {
          "base_uri": "https://localhost:8080/"
        },
        "id": "pmISRy-R1qo7",
        "outputId": "fa13c305-9694-47da-b9c9-5715cf96bf61"
      },
      "execution_count": null,
      "outputs": [
        {
          "output_type": "stream",
          "name": "stdout",
          "text": [
            "Welcome to the game of Blackjack!\n",
            "You have: ♣3 ♥Q \n",
            "Press any key to HIT another card, or 's' to STAND? a\n",
            "You have: ♣3 ♥Q ♠6 \n",
            "Press any key to HIT another card, or 's' to STAND? s\n",
            "You have: ♣3 ♥Q ♠6 \n",
            "Dealer has: ♦6 ♣6 ♣J \n",
            "Dealer busts! You win!\n"
          ]
        }
      ]
    },
    {
      "cell_type": "markdown",
      "source": [
        "## Neither busted, dealer wins"
      ],
      "metadata": {
        "id": "BfK_Z5ZiGOYb"
      }
    },
    {
      "cell_type": "code",
      "source": [
        "blackjack = Game()\n",
        "blackjack.play()"
      ],
      "metadata": {
        "colab": {
          "base_uri": "https://localhost:8080/"
        },
        "id": "F-aJ19tp1jlf",
        "outputId": "398a0aef-a8e3-465a-d398-c2c8a8296690"
      },
      "execution_count": null,
      "outputs": [
        {
          "output_type": "stream",
          "name": "stdout",
          "text": [
            "Welcome to the game of Blackjack!\n",
            "You have: ♥7 ♠9 \n",
            "Press any key to HIT another card, or 's' to STAND? h\n",
            "You have: ♥7 ♠9 ♣2 \n",
            "Press any key to HIT another card, or 's' to STAND? s\n",
            "You have: ♥7 ♠9 ♣2 \n",
            "Dealer has: ♦K ♥Q \n",
            "Dealer wins!\n"
          ]
        }
      ]
    },
    {
      "cell_type": "markdown",
      "source": [
        "## Neither busted, Player wins"
      ],
      "metadata": {
        "id": "fBGGiF8hGYso"
      }
    },
    {
      "cell_type": "code",
      "source": [
        "blackjack = Game()\n",
        "blackjack.play()"
      ],
      "metadata": {
        "colab": {
          "base_uri": "https://localhost:8080/"
        },
        "id": "ePUuzjkK17IZ",
        "outputId": "7994d0c0-1d52-44f4-b23b-98cb085ea674"
      },
      "execution_count": null,
      "outputs": [
        {
          "output_type": "stream",
          "name": "stdout",
          "text": [
            "Welcome to the game of Blackjack!\n",
            "You have: ♥2 ♣8 \n",
            "Press any key to HIT another card, or 's' to STAND? a\n",
            "You have: ♥2 ♣8 ♠8 \n",
            "Press any key to HIT another card, or 's' to STAND? a\n",
            "You have: ♥2 ♣8 ♠8 ♦3 \n",
            "You have: ♥2 ♣8 ♠8 ♦3 \n",
            "Dealer has: ♠9 ♣9 \n",
            "You win!\n"
          ]
        }
      ]
    }
  ]
}